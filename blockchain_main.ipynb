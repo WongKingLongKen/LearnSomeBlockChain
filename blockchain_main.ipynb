{
  "nbformat": 4,
  "nbformat_minor": 0,
  "metadata": {
    "colab": {
      "provenance": [],
      "authorship_tag": "ABX9TyPZytX7TJGW1oFisSYH6aQ7",
      "include_colab_link": true
    },
    "kernelspec": {
      "name": "python3",
      "display_name": "Python 3"
    },
    "language_info": {
      "name": "python"
    }
  },
  "cells": [
    {
      "cell_type": "markdown",
      "metadata": {
        "id": "view-in-github",
        "colab_type": "text"
      },
      "source": [
        "<a href=\"https://colab.research.google.com/github/WongKingLongKen/LearnSomeBlockChain/blob/main/blockchain_main.ipynb\" target=\"_parent\"><img src=\"https://colab.research.google.com/assets/colab-badge.svg\" alt=\"Open In Colab\"/></a>"
      ]
    },
    {
      "cell_type": "markdown",
      "source": [
        "reference: https://drlee.io/building-your-own-blockchain-in-python-a-step-by-step-guide-ec10ea6c976d"
      ],
      "metadata": {
        "id": "wZr9UaHFdnbB"
      }
    },
    {
      "cell_type": "markdown",
      "source": [
        "# Step 1: create hash"
      ],
      "metadata": {
        "id": "L-OPo2tNcNvD"
      }
    },
    {
      "cell_type": "code",
      "execution_count": 2,
      "metadata": {
        "id": "F8g2BGEZydEy"
      },
      "outputs": [],
      "source": [
        "import hashlib\n",
        "import time\n",
        "\n",
        "class Block:\n",
        "  def __init__(self, timestamp: str, transactions, prior_hash=''):\n",
        "    # self.index = index\n",
        "    self.transactions = transactions\n",
        "    self.timestamp = timestamp\n",
        "    self.prior_hash = prior_hash\n",
        "    self.nonce = 0\n",
        "    self.hash = self.create_hash()\n",
        "\n",
        "  def create_hash(self):\n",
        "    block_string = (str(self.prior_hash) + str(self.timestamp) +\n",
        "      str(self.transactions) + str(self.nonce)).encode()\n",
        "    # Return hash using SHA-256 (hashing algo) so that the fixed-length has string is unique to the data within the block\n",
        "    return hashlib.sha256(block_string).hexdigest()\n",
        "\n",
        "  def mine_block(self, difficulty):\n",
        "    target = '0' * difficulty\n",
        "    while self.hash[:difficulty] != target:\n",
        "        self.nonce += 1\n",
        "        self.hash = self.create_hash()\n",
        "    print(f\"Block mined! Nonce: {self.nonce}, Hash: {self.hash}\")\n",
        "\n"
      ]
    },
    {
      "cell_type": "markdown",
      "source": [
        "Encryption is two-way algorithm while Hashing is one-way. Encryption includes encrypt and decrypt while Hashing is irreversible. Hashing is better for storing a password. PW -> Hash but never Hash -> PW."
      ],
      "metadata": {
        "id": "6_uoTG-E8nqB"
      }
    },
    {
      "cell_type": "markdown",
      "source": [
        "A salt is a random piece of data added to the file to ensure uniqueness, e.g. Hash(data+salt): Hash(qwerty + m879) = Hash1."
      ],
      "metadata": {
        "id": "yJrHyEU4992_"
      }
    },
    {
      "cell_type": "markdown",
      "source": [
        "PW -> Hash -> Encrypt."
      ],
      "metadata": {
        "id": "J62HU6Qq-kb-"
      }
    },
    {
      "cell_type": "markdown",
      "source": [
        "# Step 2: assemble the blocks into a chain"
      ],
      "metadata": {
        "id": "qiGapw49cbZI"
      }
    },
    {
      "cell_type": "markdown",
      "source": [
        "The first block in any blockchain is called genesis block. It's unique and doesn't have any prior block to refer to, so its prior_hash is set to a default value."
      ],
      "metadata": {
        "id": "Oxc6ZXdFdOJ1"
      }
    },
    {
      "cell_type": "code",
      "source": [
        "class ManageBlkChain:\n",
        "  def __init__(self):\n",
        "    self.chain = [self.create_genesis_block()]\n",
        "    self.difficulty = 4 # mining difficulty\n",
        "    self.pending_transactions = []\n",
        "    self.mining_reward = 10\n",
        "\n",
        "\n",
        "  def create_genesis_block(self):\n",
        "    # return Block(0, '11/20/1978', 'BlockchainTrainingAlliance.com', '0')\n",
        "    return Block(time.time(), [], \"0\")\n",
        "\n",
        "  def get_last_block(self):\n",
        "    return self.chain[-1]\n",
        "\n",
        "  def mine_pending_transactions(self, mining_reward_address):\n",
        "    block = Block(time.time(), self.pending_transactions, self.get_last_block().hash)\n",
        "    # newly mined block\n",
        "    self.chain.append(block)\n",
        "    self.pending_transactions = [Transaction(None, mining_reward_address, self.mining_reward)]\n",
        "\n",
        "  def create_transaction(self, transaction):\n",
        "    self.pending_transactions.append(transaction)\n",
        "\n",
        "  def get_balance_of_address(self, address):\n",
        "    balance = 0\n",
        "\n",
        "    for block in self.chain:\n",
        "      for transaction in block.transactions:\n",
        "        if transaction.from_addr == address:\n",
        "          balance -= transaction.amount\n",
        "        if transaction.to_addr == address:\n",
        "          balance += transaction.amount\n",
        "\n",
        "    return balance\n",
        "\n",
        "  def add_block(self, new_block):\n",
        "    new_block.prior_hash = self.get_last_block().hash\n",
        "    new_block.mine_block(self.difficulty)\n",
        "    # new_block.hash = new_block.create_hash()\n",
        "    self.chain.append(new_block)\n",
        "\n",
        "  def is_bc_valid(self):\n",
        "    for idx in range(1, len(self.chain)):\n",
        "      current_block = self.chain[idx]\n",
        "      previous_block = self.chain[idx - 1]\n",
        "\n",
        "      if current_block.hash != current_block.create_hash():\n",
        "        return False\n",
        "\n",
        "      if current_block.prior_hash != previous_block.hash:\n",
        "        return False\n",
        "\n",
        "    return True"
      ],
      "metadata": {
        "id": "qSPO02pA7aKp"
      },
      "execution_count": 3,
      "outputs": []
    },
    {
      "cell_type": "code",
      "source": [
        "class Transaction:\n",
        "  def __init__(self, from_addr, to_addr, amount):\n",
        "    self.from_addr = from_addr\n",
        "    self.to_addr = to_addr\n",
        "    self.amount = amount"
      ],
      "metadata": {
        "id": "IO7PBAZGJqGi"
      },
      "execution_count": null,
      "outputs": []
    },
    {
      "cell_type": "markdown",
      "source": [
        "Example"
      ],
      "metadata": {
        "id": "oiKCwjQvxfkB"
      }
    },
    {
      "cell_type": "code",
      "source": [
        "coin = ManageBlkChain()\n",
        "\n",
        "# coin.add_block(Block(1, '11/21/1978', 'amount = 10'))\n",
        "# coin.add_block(Block(2, '11/22/1978', 'amount = 40'))\n",
        "# coin.add_block(Block(3, '11/23/1978', 'amount = 20'))\n",
        "# coin.add_block(Block(4, '11/24/1978', 'amount = 30'))\n",
        "\n",
        "coin.create_transaction(Transaction('address1', 'address2', 70))\n",
        "coin.create_transaction(Transaction('address2', 'address1', 40))\n",
        "\n",
        "print(\"Starting mining process...\")\n",
        "coin.mine_pending_transactions('miner-address')\n",
        "\n",
        "print(f\"\\nBalance of miner's wallet: {coin.get_balance_of_address('miner-address')}\")\n",
        "\n",
        "print(\"Mining again to receive the reward...\")\n",
        "coin.mine_pending_transactions('miner-address')\n",
        "print(f\"\\nBalance of miner's wallet after second mining: {coin.get_balance_of_address('miner-address')}\")\n",
        "# Print the blockchain to the console\n",
        "# import json\n",
        "# print(json.dumps(coin.chain, default=lambda o: o.__dict__, indent=4))"
      ],
      "metadata": {
        "colab": {
          "base_uri": "https://localhost:8080/"
        },
        "id": "U_6gTrdsxdrb",
        "outputId": "db7202d9-75e8-4ad5-f7fa-2270f258eda2"
      },
      "execution_count": 6,
      "outputs": [
        {
          "output_type": "stream",
          "name": "stdout",
          "text": [
            "Starting mining process...\n",
            "\n",
            "Balance of miner's wallet: 0\n",
            "Mining again to receive the reward...\n",
            "\n",
            "Balance of miner's wallet after second mining: 10\n"
          ]
        }
      ]
    },
    {
      "cell_type": "markdown",
      "source": [
        "# Step 3: validate the blockchain"
      ],
      "metadata": {
        "id": "qLZ1LlvUOE_V"
      }
    },
    {
      "cell_type": "markdown",
      "source": [
        "Look back to class ManageBlkChain"
      ],
      "metadata": {
        "id": "xrSsqS6GPBZq"
      }
    },
    {
      "cell_type": "code",
      "source": [
        "# Test for checking the built-up of validation part by tampering\n",
        "print('Is ManageBlkChain Valid? ' + str(coin.is_bc_valid()))\n",
        "# After tampering\n",
        "coin.chain[1].data = 'amount = 1,000'\n",
        "print('Is ManageBlkChain Valid after tampering? ' + str(coin.is_bc_valid()))\n",
        "# Update the hash to match the tampered data\n",
        "coin.chain[1].hash = coin.chain[1].create_hash()\n",
        "print('Is ManageBlkChain Valid after updating the hash? ' + str(coin.is_bc_valid()))"
      ],
      "metadata": {
        "colab": {
          "base_uri": "https://localhost:8080/"
        },
        "id": "f_i-lITfxrIz",
        "outputId": "13555cdd-d986-450c-d5a8-5917deb941c3"
      },
      "execution_count": 7,
      "outputs": [
        {
          "output_type": "stream",
          "name": "stdout",
          "text": [
            "Is ManageBlkChain Valid? True\n",
            "Is ManageBlkChain Valid after tampering? True\n",
            "Is ManageBlkChain Valid after updating the hash? True\n"
          ]
        }
      ]
    },
    {
      "cell_type": "markdown",
      "source": [
        "# Step 4: Proof of Work, to prevent blocks from being added too quickly that may result in spam or unauthorized changes"
      ],
      "metadata": {
        "id": "HNJLbHhNTkxx"
      }
    },
    {
      "cell_type": "markdown",
      "source": [
        "Check the first step and second step"
      ],
      "metadata": {
        "id": "Z5lbIgUvbgxF"
      }
    },
    {
      "cell_type": "markdown",
      "source": [
        "# Step 5: Transaction Class"
      ],
      "metadata": {
        "id": "54jcxLd5ezmD"
      }
    },
    {
      "cell_type": "markdown",
      "source": [
        "Check the first step and be aware of the import of time, also Transaction class"
      ],
      "metadata": {
        "id": "jE0GMsizf-HB"
      }
    }
  ]
}